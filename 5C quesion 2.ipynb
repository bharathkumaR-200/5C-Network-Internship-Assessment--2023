{
 "cells": [
  {
   "cell_type": "code",
   "execution_count": 1,
   "id": "ffd66cb2",
   "metadata": {},
   "outputs": [
    {
     "name": "stdout",
     "output_type": "stream",
     "text": [
      "        Date Firm bought from  Buying price   Customer  Selling price  \\\n",
      "0   21/08/23          Vendor6         72.11  Customer7          91.58   \n",
      "1   21/08/23          Vendor4         75.08  Customer7          83.71   \n",
      "2   21/08/23          Vendor7         83.93  Customer2         103.76   \n",
      "3   21/08/23          Vendor7         52.01  Customer3          64.53   \n",
      "4   21/08/23          Vendor2         98.91  Customer5         140.92   \n",
      "..       ...              ...           ...        ...            ...   \n",
      "65  27/08/23          Vendor4         64.82  Customer6          87.45   \n",
      "66  27/08/23          Vendor8         88.79  Customer3         105.59   \n",
      "67  27/08/23          Vendor5         63.30  Customer5          92.92   \n",
      "68  27/08/23          Vendor5         94.06  Customer5         125.67   \n",
      "69  27/08/23          Vendor5         56.28  Customer6          82.16   \n",
      "\n",
      "    Quantity sold  \n",
      "0              44  \n",
      "1              17  \n",
      "2              15  \n",
      "3               7  \n",
      "4               1  \n",
      "..            ...  \n",
      "65             18  \n",
      "66              5  \n",
      "67             32  \n",
      "68              4  \n",
      "69              1  \n",
      "\n",
      "[70 rows x 6 columns]\n"
     ]
    }
   ],
   "source": [
    "import pandas as pd\n",
    "import numpy as np\n",
    "df=pd.read_csv(\"sales_data_1.csv\")\n",
    "print(df)"
   ]
  },
  {
   "cell_type": "code",
   "execution_count": 3,
   "id": "e327b204",
   "metadata": {},
   "outputs": [],
   "source": [
    "array1=np.array(df[\"Buying price\"])\n",
    "array2=np.array(df[\"Selling price\"])\n",
    "units=np.array(df[\"Quantity sold\"])\n",
    "array1=array1*units\n",
    "array2=array2*units"
   ]
  },
  {
   "cell_type": "code",
   "execution_count": 5,
   "id": "44044542",
   "metadata": {},
   "outputs": [
    {
     "name": "stdout",
     "output_type": "stream",
     "text": [
      "Total gross margin :  31482.75\n"
     ]
    }
   ],
   "source": [
    "#question 1\n",
    "gross_margin=array2-array1\n",
    "total_gross_margin=np.sum(gross_margin)\n",
    "print(\"Total gross margin : \",total_gross_margin)"
   ]
  },
  {
   "cell_type": "code",
   "execution_count": 6,
   "id": "03297c12",
   "metadata": {},
   "outputs": [
    {
     "name": "stdout",
     "output_type": "stream",
     "text": [
      "Firm bought from\n",
      "Vendor1      53.23\n",
      "Vendor10     82.58\n",
      "Vendor2     161.11\n",
      "Vendor3     165.18\n",
      "Vendor4     170.11\n",
      "Vendor5     116.98\n",
      "Vendor6      32.11\n",
      "Vendor7     224.98\n",
      "Vendor8      35.66\n",
      "Vendor9     165.26\n",
      "dtype: float64\n",
      "Vendor7\n"
     ]
    }
   ],
   "source": [
    "#2nd question\n",
    "vendors_sp=df.groupby(\"Firm bought from\")['Selling price'].sum()\n",
    "vendors_cp=df.groupby(\"Firm bought from\")['Buying price'].sum()\n",
    "vendors_profit=vendors_sp-vendors_cp\n",
    "print(vendors_profit)\n",
    "pro_vendor=vendors_profit.idxmax()\n",
    "print(pro_vendor)"
   ]
  },
  {
   "cell_type": "code",
   "execution_count": 7,
   "id": "a51e0691",
   "metadata": {},
   "outputs": [
    {
     "name": "stdout",
     "output_type": "stream",
     "text": [
      "Customer\n",
      "Customer1     132.59\n",
      "Customer10     87.44\n",
      "Customer2     164.56\n",
      "Customer3      90.63\n",
      "Customer4     123.97\n",
      "Customer5     115.45\n",
      "Customer6     135.23\n",
      "Customer7     115.33\n",
      "Customer8     184.38\n",
      "Customer9      57.62\n",
      "dtype: float64\n",
      "The least profitable customer is: Customer9\n"
     ]
    }
   ],
   "source": [
    "#question3\n",
    "\n",
    "cust_get=df.groupby(\"Customer\")['Selling price'].sum()\n",
    "cust_org=df.groupby(\"Customer\")['Buying price'].sum()\n",
    "\n",
    "customer_profit=cust_get-cust_org\n",
    "\n",
    "print(customer_profit)\n",
    "\n",
    "least_profitable_customer = customer_profit.idxmin()\n",
    "\n",
    "print(\"The least profitable customer is:\", least_profitable_customer)\n"
   ]
  },
  {
   "cell_type": "code",
   "execution_count": 8,
   "id": "2e0e0839",
   "metadata": {},
   "outputs": [
    {
     "name": "stdout",
     "output_type": "stream",
     "text": [
      "The most profitable day of the week was: Monday\n",
      "The least profitable day of the week was: Thursday\n"
     ]
    }
   ],
   "source": [
    "#question 4\n",
    "\n",
    "df['Date'] = pd.to_datetime(df['Date'], format='%d/%m/%y')\n",
    "\n",
    "df['Day of the Week'] = df['Date'].dt.day_name()\n",
    "\n",
    "day_get=df.groupby(\"Day of the Week\")['Selling price'].sum()\n",
    "day_org=df.groupby(\"Day of the Week\")['Buying price'].sum()\n",
    "\n",
    "day_profit= day_get-day_org\n",
    "\n",
    "most_profitable_day = day_profit.idxmax()\n",
    "least_profitable_day = day_profit.idxmin()\n",
    "\n",
    "print(\"The most profitable day of the week was:\", most_profitable_day)\n",
    "\n",
    "\n",
    "\n",
    "#question 5\n",
    "\n",
    "print(\"The least profitable day of the week was:\", least_profitable_day)"
   ]
  },
  {
   "cell_type": "code",
   "execution_count": null,
   "id": "5f426a7a",
   "metadata": {},
   "outputs": [],
   "source": []
  }
 ],
 "metadata": {
  "kernelspec": {
   "display_name": "Python 3 (ipykernel)",
   "language": "python",
   "name": "python3"
  },
  "language_info": {
   "codemirror_mode": {
    "name": "ipython",
    "version": 3
   },
   "file_extension": ".py",
   "mimetype": "text/x-python",
   "name": "python",
   "nbconvert_exporter": "python",
   "pygments_lexer": "ipython3",
   "version": "3.9.13"
  }
 },
 "nbformat": 4,
 "nbformat_minor": 5
}
